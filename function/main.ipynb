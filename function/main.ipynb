{
 "cells": [
  {
   "cell_type": "code",
   "execution_count": 1,
   "id": "8e508ded",
   "metadata": {},
   "outputs": [],
   "source": [
    "from openai import OpenAI\n",
    "client = OpenAI()"
   ]
  },
  {
   "cell_type": "code",
   "execution_count": 5,
   "id": "39616e05",
   "metadata": {},
   "outputs": [],
   "source": [
    "tools = [\n",
    "    {\n",
    "        \"type\": \"function\",\n",
    "        \"function\": {\n",
    "            \"name\": \"rate_joke\",\n",
    "            \"description\": \"Rate a joke from 1–10 and give feedback message.\",\n",
    "            \"parameters\": {\n",
    "                \"type\": \"object\",\n",
    "                \"properties\": {\n",
    "                    \"joke\": {\"type\": \"string\", \"description\": \"The joke text to rate.\"},\n",
    "                    \"rating\": {\"type\": \"integer\", \"description\": \"The rating score from 1 to 10.\"},\n",
    "                    \"reason\": {\"type\": \"string\", \"description\": \"Why the joke got that score.\"},\n",
    "                    \"feedback_message\": {\n",
    "                        \"type\": \"string\",\n",
    "                        \"description\": \"A casual human-like feedback message (e.g. 'Nice one!', 'Not great, try again!').\"\n",
    "                    }\n",
    "                },\n",
    "                \"required\": [\"joke\", \"rating\", \"reason\", \"feedback_message\"]\n",
    "            }\n",
    "        }\n",
    "    }\n",
    "]\n"
   ]
  },
  {
   "cell_type": "code",
   "execution_count": 8,
   "id": "956c2536",
   "metadata": {},
   "outputs": [
    {
     "name": "stdout",
     "output_type": "stream",
     "text": [
      "💬 Feedback:\n",
      "👉 Clever pun! Nicely done!\n",
      "⭐ Rating: 7/10\n",
      "📖 Reason: The joke plays cleverly on the double meaning of 'cache' (computer memory and cash), which is a common pun in developer humor. However, it's a bit niche, so it may not resonate with everyone.\n"
     ]
    }
   ],
   "source": [
    "# The input joke\n",
    "user_joke = \"Why did the developer go broke? Because he used up all his cache!\"\n",
    "response = client.chat.completions.create(\n",
    "    model=\"gpt-4o-mini\",\n",
    "    messages=[\n",
    "        {\"role\": \"system\", \"content\": \"You are a humor critic that rates jokes fairly.\"},\n",
    "        {\"role\": \"user\", \"content\": f\"Please rate this joke: {user_joke}\"}\n",
    "    ],\n",
    "    tools=tools,\n",
    "    tool_choice=\"auto\"   \n",
    ")\n",
    "import json\n",
    "message = response.choices[0].message\n",
    "if message.tool_calls:\n",
    "    tool_call = message.tool_calls[0]\n",
    "    function_args = json.loads(tool_call.function.arguments)\n",
    "\n",
    "    print(\"💬 Feedback:\")\n",
    "    print(f\"👉 {function_args['feedback_message']}\")\n",
    "    print(f\"⭐ Rating: {function_args['rating']}/10\")\n",
    "    print(f\"📖 Reason: {function_args['reason']}\")\n",
    "else:\n",
    "    print(\"No tool call. Model response:\")\n",
    "    print(message.content)"
   ]
  }
 ],
 "metadata": {
  "kernelspec": {
   "display_name": "venv",
   "language": "python",
   "name": "python3"
  },
  "language_info": {
   "codemirror_mode": {
    "name": "ipython",
    "version": 3
   },
   "file_extension": ".py",
   "mimetype": "text/x-python",
   "name": "python",
   "nbconvert_exporter": "python",
   "pygments_lexer": "ipython3",
   "version": "3.13.2"
  }
 },
 "nbformat": 4,
 "nbformat_minor": 5
}
